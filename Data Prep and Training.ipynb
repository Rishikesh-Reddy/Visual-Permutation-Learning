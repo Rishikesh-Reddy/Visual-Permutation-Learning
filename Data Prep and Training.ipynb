{
 "cells": [
  {
   "cell_type": "code",
   "execution_count": 1,
   "id": "ce3ebee9",
   "metadata": {
    "executionInfo": {
     "elapsed": 14436,
     "status": "ok",
     "timestamp": 1680716718450,
     "user": {
      "displayName": "20R21A6704 ALUGUVELLI RISHIKESH REDDY",
      "userId": "11739831570308315790"
     },
     "user_tz": -330
    },
    "id": "ce3ebee9"
   },
   "outputs": [],
   "source": [
    "import torch\n",
    "import os\n",
    "import pathlib\n",
    "from PIL import Image\n",
    "import pandas as pd\n",
    "import numpy as np\n",
    "import matplotlib.pyplot as plt\n",
    "from torch.utils.data import Dataset, DataLoader\n",
    "from torchvision import transforms, utils\n",
    "from torchvision.transforms import ToTensor\n",
    "import torchvision.transforms.functional as TF"
   ]
  },
  {
   "cell_type": "code",
   "execution_count": null,
   "id": "37b775d2",
   "metadata": {},
   "outputs": [],
   "source": [
    "# Model Importing Pls change to the path where the model is present.\n",
    "# additional util functions are also imported.\n",
    "\n",
    "from model_torch import *"
   ]
  },
  {
   "cell_type": "code",
   "execution_count": 2,
   "id": "f5709ab6",
   "metadata": {
    "colab": {
     "base_uri": "https://localhost:8080/"
    },
    "executionInfo": {
     "elapsed": 416,
     "status": "ok",
     "timestamp": 1680716787318,
     "user": {
      "displayName": "20R21A6704 ALUGUVELLI RISHIKESH REDDY",
      "userId": "11739831570308315790"
     },
     "user_tz": -330
    },
    "id": "f5709ab6",
    "outputId": "6cf9d097-0af9-4230-a83c-2a3dfb0df018"
   },
   "outputs": [
    {
     "data": {
      "text/plain": [
       "(WindowsPath('dataset/train/faces'),\n",
       " WindowsPath('dataset/train/train_faces.csv'),\n",
       " WindowsPath('dataset/train/landmarks'),\n",
       " WindowsPath('dataset/train/train_landmarks.csv'),\n",
       " WindowsPath('dataset/test/faces'),\n",
       " WindowsPath('dataset/test/landmarks'))"
      ]
     },
     "execution_count": 2,
     "metadata": {},
     "output_type": "execute_result"
    }
   ],
   "source": [
    "# Training\n",
    "\n",
    "\n",
    "faces_X_train = pathlib.Path('./dataset/train/faces/')\n",
    "faces_y_train = pathlib.Path('./dataset/train/train_faces.csv')\n",
    "landmarks_X_train = pathlib.Path('./dataset/train/landmarks')\n",
    "landmarks_y_train = pathlib.Path('./dataset/train/train_landmarks.csv')\n",
    "\n",
    "#Testing\n",
    "\n",
    "faces_X_test = pathlib.Path('./dataset/test/faces')\n",
    "landmarks_X_test = pathlib.Path('./dataset/test/landmarks')\n",
    "\n",
    "\n",
    "faces_X_train, faces_y_train, landmarks_X_train, landmarks_y_train, faces_X_test, landmarks_X_test"
   ]
  },
  {
   "cell_type": "code",
   "execution_count": 3,
   "id": "707a66c9",
   "metadata": {
    "executionInfo": {
     "elapsed": 6,
     "status": "ok",
     "timestamp": 1680716790646,
     "user": {
      "displayName": "20R21A6704 ALUGUVELLI RISHIKESH REDDY",
      "userId": "11739831570308315790"
     },
     "user_tz": -330
    },
    "id": "707a66c9"
   },
   "outputs": [],
   "source": [
    "def PreProcessLabelDF(df):\n",
    "    df.index = df.image\n",
    "    df = df.drop(columns = ['image'])\n",
    "    cols = dict(zip([int(i) for i in df.columns], range(1, 37)))\n",
    "    x = dict(zip(df.columns, [cols for i in range(36)]))\n",
    "    df.replace(x, inplace=True)\n",
    "    return df\n",
    "\n",
    "def visualize_ds(ds):\n",
    "    fig = plt.figure(figsize = (12, 24))\n",
    "    j = 1\n",
    "    for i in range(4):\n",
    "        sample = ds[i]\n",
    "\n",
    "        ax = plt.subplot(4, 2, j)\n",
    "        ax.axis('off')\n",
    "        j += 1\n",
    "        plt.imshow(sample[0].permute(1, 2, 0))\n",
    "        ax = plt.subplot(4, 2, j)\n",
    "        ax.axis('off')\n",
    "        j += 1\n",
    "        plt.imshow(sample[1])\n",
    "\n",
    "        if i == 3:\n",
    "            plt.show()\n",
    "            break\n",
    "\n",
    "\n",
    "def get_label(df, name):\n",
    "    label = np.zeros((36, 36))\n",
    "    for index, pos in enumerate(df.loc[name]):\n",
    "        label[index][pos-1] = 1\n",
    "    return label"
   ]
  },
  {
   "cell_type": "code",
   "execution_count": 4,
   "id": "ec825e51",
   "metadata": {
    "executionInfo": {
     "elapsed": 7,
     "status": "ok",
     "timestamp": 1680716796572,
     "user": {
      "displayName": "20R21A6704 ALUGUVELLI RISHIKESH REDDY",
      "userId": "11739831570308315790"
     },
     "user_tz": -330
    },
    "id": "ec825e51"
   },
   "outputs": [],
   "source": [
    "class DS(Dataset):\n",
    "    def __init__(self, image_paths, label_ds, transform = None):\n",
    "        self.image_paths = image_paths\n",
    "        self.label_ds = label_ds\n",
    "        self.transform = transform\n",
    "        \n",
    "    def preprocess_label_df(self):\n",
    "        self.label_ds.index = self.label_ds.image\n",
    "        self.label_ds = self.label_ds.drop(columns = ['image'])\n",
    "        cols = dict(zip([int(i) for i in self.label_ds.columns], range(1, 37)))\n",
    "        x = dict(zip(self.label_ds.columns, [cols for i in range(36)]))\n",
    "        self.label_ds.replace(x, inplace=True)\n",
    "\n",
    "    def __getitem__(self, idx):\n",
    "        x = Image.open(self.image_paths[idx])\n",
    "        y = torch.zeros(36, 36)\n",
    "        \n",
    "        for index, pos in enumerate(self.label_ds.loc[self.image_paths[idx].split(os.path.sep)[-1]]):\n",
    "            y[index][pos-1] = 1  \n",
    "            \n",
    "        if self.transform:\n",
    "            x = self.transform(x)\n",
    "            \n",
    "        return x, y\n",
    "    \n",
    "    def __len__(self):\n",
    "        return len(self.image_paths)"
   ]
  },
  {
   "cell_type": "code",
   "execution_count": 5,
   "id": "3df14185",
   "metadata": {
    "id": "3df14185",
    "scrolled": true
   },
   "outputs": [],
   "source": [
    "faces_image_paths = list(map(str, faces_X_train.glob('*.jpg')))\n",
    "landmarks_image_paths = list(map(str, landmarks_X_train.glob('*.jpg')))\n",
    "\n",
    "faces_dataset = DS(image_paths = faces_image_paths,\n",
    "                   label_ds = PreProcessLabelDF(pd.read_csv(faces_y_train)),\n",
    "                   transform = transforms.Compose([\n",
    "                                               ToTensor()\n",
    "                                           ])\n",
    "                  )  \n",
    "landmarks_dataset = DS(image_paths = landmarks_image_paths,\n",
    "                       label_ds = PreProcessLabelDF(pd.read_csv(landmarks_y_train)),\n",
    "                       transform = transforms.Compose([\n",
    "                                               ToTensor()\n",
    "                                           ])\n",
    "                      )\n",
    "            \n",
    "# visualize_ds(faces_dataset)\n",
    "# visualize_ds(landmarks_dataset)"
   ]
  },
  {
   "cell_type": "code",
   "execution_count": 31,
   "id": "01e52ca1",
   "metadata": {
    "executionInfo": {
     "elapsed": 5,
     "status": "ok",
     "timestamp": 1680716819488,
     "user": {
      "displayName": "20R21A6704 ALUGUVELLI RISHIKESH REDDY",
      "userId": "11739831570308315790"
     },
     "user_tz": -330
    },
    "id": "01e52ca1"
   },
   "outputs": [],
   "source": [
    "# Dataset\n",
    "faces_train, faces_val, faces_test = torch.utils.data.random_split(faces_dataset, [0.7, .1, .2])\n",
    "landmarks_train, landmarks_val, landmarks_test = torch.utils.data.random_split(landmarks_dataset, [0.7, .1, .2])\n",
    "\n",
    "\n",
    "faces_train, faces_val, faces_test = DataLoader(faces_train, shuffle = True, batch_size = 5), DataLoader(faces_val, shuffle = True, batch_size = 5), DataLoader(faces_test, shuffle = True, batch_size = 5)\n",
    "landmarks_train, landmarks_val, landmarks_test = DataLoader(landmarks_train, shuffle = True, batch_size = 5), DataLoader(landmarks_val, shuffle = True, batch_size = 5), DataLoader(landmarks_test, shuffle = True, batch_size = 5)\n",
    "\n",
    "\n",
    "full_ds = torch.utils.data.ConcatDataset([faces_dataset, landmarks_dataset])\n",
    "\n",
    "train_ds, val_ds, test_ds = torch.utils.data.random_split(full_ds, [0.7, .1, .2])\n",
    "train_ds, val_ds, test_ds = DataLoader(train_ds, shuffle = True, batch_size = 5), DataLoader(val_ds, shuffle = True, batch_size = 5), DataLoader(test_ds, shuffle = True, batch_size = 5)\n",
    "\n",
    "\n",
    "full_dl = DataLoader(full_ds, shuffle = True, batch_size = 5)"
   ]
  },
  {
   "cell_type": "code",
   "execution_count": 18,
   "id": "lg08LFNA9ajG",
   "metadata": {
    "id": "lg08LFNA9ajG"
   },
   "outputs": [
    {
     "data": {
      "text/plain": [
       "<matplotlib.image.AxesImage at 0x201aa269390>"
      ]
     },
     "execution_count": 18,
     "metadata": {},
     "output_type": "execute_result"
    },
    {
     "data": {
      "image/png": "[encoded data removed]",
      "text/plain": [
       "<Figure size 640x480 with 1 Axes>"
      ]
     },
     "metadata": {},
     "output_type": "display_data"
    }
   ],
   "source": [
    "# showcase a random Sample of the label \n",
    "\n",
    "df = PreProcessLabelDF(pd.read_csv(faces_y_train))\n",
    "plt.imshow(get_label(df, df.sample().index[0]))"
   ]
  },
  {
   "cell_type": "code",
   "execution_count": null,
   "id": "1bc2b1ce",
   "metadata": {},
   "outputs": [],
   "source": [
    "# Todo: Metrics and Loss function to be configured to specific use case.\n",
    "\n",
    "def validate_model(model, dataset):\n",
    "    with torch.inference_mode():\n",
    "        for data in dataset:\n",
    "            inputs, labels = data\n",
    "            preds = model(inputs)\n",
    "            print(f' Tau Statistic : {kendalltau(preds, labels).statistic} Hamming Similarity: {hamming_loss(preds, labels)}')\n",
    "            \n",
    "def evaluate_model(model, dataset):\n",
    "    with torch.inference_mode():\n",
    "        for data in dataset:\n",
    "            inputs, labels = data\n",
    "            preds = model(inputs)\n",
    "            print(f' Tau Statistic : {kendalltau(preds, labels).statistic} Hamming Similarity: {hamming_loss(preds, labels)}')"
   ]
  },
  {
   "cell_type": "code",
   "execution_count": null,
   "id": "fp8BNdJil6lT",
   "metadata": {
    "colab": {
     "base_uri": "https://localhost:8080/",
     "height": 345
    },
    "executionInfo": {
     "elapsed": 665,
     "status": "error",
     "timestamp": 1680718504015,
     "user": {
      "displayName": "20R21A6704 ALUGUVELLI RISHIKESH REDDY",
      "userId": "11739831570308315790"
     },
     "user_tz": -330
    },
    "id": "fp8BNdJil6lT",
    "outputId": "cd8d9742-c594-439e-e3f6-cff2cf20df64"
   },
   "outputs": [],
   "source": [
    "# Define the model, Optimizer and Loss Function.\n",
    "\n",
    "# Todo: To be improved and Loss function has to be tailored to specific use case.\n",
    "\n",
    "# Metrics also to be configured to specific use case.\n",
    "\n",
    "# refer: https://arxiv.org/pdf/1704.02729.pdf\n",
    "\n",
    "\n",
    "model = Model()\n",
    "optimizer = torch.optim.Adam(model.parameters(), lr = 1e-3)\n",
    "loss_fn = nn.CrossEntropyLoss()\n",
    "\n",
    "\n",
    "\n",
    "def train_epoch(epoch_index):\n",
    "    for i, data in enumerate(faces_train_ds):\n",
    "        inputs, labels = data\n",
    "        print(torch.isnan(inputs).any(), torch.isnan(inputs).any())\n",
    "\n",
    "        optimizer.zero_grad()\n",
    "\n",
    "        outputs = model(inputs)\n",
    "\n",
    "        loss = loss_fn(outputs, labels)\n",
    "        loss.backward()\n",
    "\n",
    "        optimizer.step()\n",
    "\n",
    "        print(f'Batch {i+1} Loss: {loss.item()}')\n",
    "\n",
    "    return loss.item()   "
   ]
  },
  {
   "cell_type": "code",
   "execution_count": null,
   "id": "ea6f8a8a",
   "metadata": {},
   "outputs": [],
   "source": [
    "EPOCHS = 5\n",
    "# Batch Size is already fixed to 5 in dataset creation.\n",
    "\n",
    "\n",
    "for epoch in range(EPOCHS):\n",
    "    epoch_loss = train_epoch(epoch)\n",
    "    print(f'Epoch {epoch + 1} Loss : {epoch_loss}')\n",
    "    if epoch % 2 == 1:\n",
    "        print(f'Validation at {epoch + 1}')\n",
    "        validate_model(model, faces_val)\n",
    "    if epoch % 3 == 2:\n",
    "        print(f'Testing at {epoch + 1}')\n",
    "        evaluate_model(model, faces_test)"
   ]
  }
 ],
 "metadata": {
  "colab": {
   "provenance": []
  },
  "kernelspec": {
   "display_name": "Python 3 (ipykernel)",
   "language": "python",
   "name": "python3"
  },
  "language_info": {
   "codemirror_mode": {
    "name": "ipython",
    "version": 3
   },
   "file_extension": ".py",
   "mimetype": "text/x-python",
   "name": "python",
   "nbconvert_exporter": "python",
   "pygments_lexer": "ipython3",
   "version": "3.10.7"
  }
 },
 "nbformat": 4,
 "nbformat_minor": 5
}
